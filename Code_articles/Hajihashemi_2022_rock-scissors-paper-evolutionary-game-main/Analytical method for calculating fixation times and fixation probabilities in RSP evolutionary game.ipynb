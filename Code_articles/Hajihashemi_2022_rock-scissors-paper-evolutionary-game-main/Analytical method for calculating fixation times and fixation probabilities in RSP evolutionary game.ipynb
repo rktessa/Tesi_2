{
 "cells": [
  {
   "cell_type": "code",
   "execution_count": 3,
   "metadata": {},
   "outputs": [],
   "source": [
    "# N is the size of population\n",
    "\n",
    "import numpy as np\n",
    "import matplotlib\n",
    "import matplotlib.pyplot as plt\n",
    "import random\n",
    "import seaborn as sns\n",
    "import math\n",
    "N=50\n",
    "n=int((N+1)*(N+2)/2)\n",
    "A=np.zeros((n, n))\n",
    "j1=int(1)\n",
    "j2=int(2)\n",
    "II=np.identity(n-3)\n",
    "\n",
    "ta=10\n",
    "def tag(x):\n",
    "    return(round(x,ta))"
   ]
  },
  {
   "attachments": {
    "matrsp.JPG": {
     "image/jpeg": "[encoded data removed]"
    }
   },
   "cell_type": "markdown",
   "metadata": {},
   "source": [
    "# Some parameters must be specified before the calculation starts. Without losing generality, the payoff matrix of RSP game can be written as \n",
    "![matrsp.JPG](attachment:matrsp.JPG)\n",
    "\n",
    "# So we should determine parameters a_i and b_i.\n",
    "\n",
    "# Also beta parameter in fermi function shuold be assign.\n",
    "\n",
    "\n"
   ]
  },
  {
   "cell_type": "code",
   "execution_count": 4,
   "metadata": {},
   "outputs": [],
   "source": [
    "\n",
    "b1=2\n",
    "b2=300\n",
    "b3=2\n",
    "a1=1\n",
    "a2=300\n",
    "a3=1\n",
    "\n",
    "beta=.001\n",
    "def fermi(x,y):\n",
    "    return(1/(1+math.exp(beta*(x-y))))"
   ]
  },
  {
   "cell_type": "code",
   "execution_count": 6,
   "metadata": {},
   "outputs": [],
   "source": [
    "#r=0\n",
    "#i is number of s, N-i is number of p\n",
    "\n",
    "def PR0(w2):\n",
    "    return((b3*(N-w2)-a2*w2)/N)\n",
    "\n",
    "def PS0(w2):\n",
    "    return(-a3*(N-w2)/N)\n",
    "\n",
    "def PP0(w2):\n",
    "    return(b2*w2/N)\n",
    "\n",
    "\n",
    "for i in range (2,N-1):\n",
    "    \n",
    "    q3=(i*(N-i)*fermi(PS0(N-i),PP0(N-i)))/(N**2-N)\n",
    "    q4=(i*(N-i)*fermi(PP0(N-i),PS0(N-i)))/(N**2-N)\n",
    "    q5=(i*(i-1)+(N-i)*(N-i-1))/(2*(N**2-N))\n",
    "    \n",
    "    \n",
    "    A[int(i*(i+1)/2)+2,int((i+2)*(i+1)/2)+2]= 2*(q3)\n",
    "    A[int(i*(i+1)/2)+2,int((i-1)*(i)/2)+2]=2*(q4)\n",
    "    A[int(i*(i+1)/2)+2,int(i*(i+1)/2)+2]=2*q5\n",
    "\n",
    "        \n",
    "        \n",
    "                                          \n",
    "i=1\n",
    "\n",
    "\n",
    "q3=(i*(N-i)*fermi(PS0(N-i),PP0(N-i)))/(N**2-N)\n",
    "q4=(i*(N-i)*fermi(PP0(N-i),PS0(N-i)))/(N**2-N)\n",
    "q5=(i*(i-1)+(N-i)*(N-i-1))/(2*(N**2-N))\n",
    "\n",
    "\n",
    "A[int(i*(i+1)/2)+2,int((i+2)*(i+1)/2)+2]= 2*(q3)\n",
    "A[int(i*(i+1)/2)+2,0]=2*(q4)\n",
    "A[int(i*(i+1)/2)+2,int(i*(i+1)/2)+2]=2*q5\n",
    "    \n",
    "    \n",
    "\n",
    "i=N-1\n",
    "\n",
    "\n",
    "q3=(i*(N-i)*fermi(PS0(N-i),PP0(N-i)))/(N**2-N)\n",
    "q4=(i*(N-i)*fermi(PP0(N-i),PS0(N-i)))/(N**2-N)\n",
    "q5=(i*(i-1)+(N-i)*(N-i-1))/(2*(N**2-N))\n",
    "\n",
    "\n",
    "A[int(i*(i+1)/2)+2,1]= 2*(q3)\n",
    "A[int(i*(i+1)/2)+2,int((i-1)*(i)/2)+2]=2*(q4)\n",
    "A[int(i*(i+1)/2)+2,int(i*(i+1)/2)+2]=2*q5\n"
   ]
  },
  {
   "cell_type": "code",
   "execution_count": 7,
   "metadata": {},
   "outputs": [],
   "source": [
    "#p=0\n",
    "#i-1 is number of r, N-i+1 is number of s\n",
    "\n",
    "def PR1(w2):\n",
    "    return(-a2*w2/N)\n",
    "\n",
    "def PS1(w1):\n",
    "    return(b1*w1/N)\n",
    "\n",
    "def PP1(w1,w2):\n",
    "    return((-a1*w1+b2*w2)/N)\n",
    "\n",
    "\n",
    "\n",
    "\n",
    "\n",
    "\n",
    "for i in range (3,N):\n",
    "    \n",
    "    \n",
    "    Z3=((i-1)*(N-i+1)*fermi(PS1(i-1),PR1(N-i+1)))/(N**2-N)\n",
    "    Z4=((i-1)*(N-i+1)*fermi(PR1(N-i+1),PS1(i-1)))/(N**2-N)\n",
    "    Z5=((i-2)*(i-1)+(N-i+1)*(N-i))/(2*(N**2-N))\n",
    "    \n",
    "    \n",
    "    A[int((i)*(i+1)/2+1),int((i+1)*(i+2)/2+1)]= 2*Z3\n",
    "    A[int(i*(i+1)/2+1),int((i-1)*(i)/2+1)]=2*Z4\n",
    "    A[int(i*(i+1)/2+1),int((i+1)*(i)/2+1)]=2*Z5\n",
    "\n",
    "    \n",
    "    \n",
    "\n",
    "    \n",
    "i=2\n",
    "Z3=((i-1)*(N-i+1)*fermi(PS1(i-1),PR1(N-i+1)))/(N**2-N)\n",
    "Z4=((i-1)*(N-i+1)*fermi(PR1(N-i+1),PS1(i-1)))/(N**2-N)\n",
    "Z5=((i-2)*(i-1)+(N-i+1)*(N-i))/(2*(N**2-N))\n",
    "\n",
    "\n",
    "A[int((i)*(i+1)/2+1),int((i+1)*(i+2)/2+1)]= 2*Z3\n",
    "A[int(i*(i+1)/2+1),0]=2*Z4\n",
    "A[int(i*(i+1)/2+1),int((i+1)*(i)/2+1)]=2*Z5\n",
    "\n",
    "\n",
    "i=N\n",
    "\n",
    "Z3=((i-1)*(N-i+1)*fermi(PS1(i-1),PR1(N-i+1)))/(N**2-N)\n",
    "Z4=((i-1)*(N-i+1)*fermi(PR1(N-i+1),PS1(i-1)))/(N**2-N)\n",
    "Z5=((i-2)*(i-1)+(N-i+1)*(N-i))/(2*(N**2-N))\n",
    "\n",
    "\n",
    "A[int((i)*(i+1)/2+1),2]= 2*Z3\n",
    "A[int(i*(i+1)/2+1),int((i-1)*(i)/2+1)]=2*Z4\n",
    "A[int(i*(i+1)/2+1),int((i+1)*(i)/2+1)]=2*Z5\n"
   ]
  },
  {
   "cell_type": "code",
   "execution_count": 8,
   "metadata": {},
   "outputs": [],
   "source": [
    "#s=0\n",
    "#i-1 is number of r, N-i+1 is number of p\n",
    "def PR2(w1):\n",
    "    return(b3*(N-w1)/N)\n",
    "\n",
    "def PS2(w1):\n",
    "    return((b1*w1-a3*(N-w1))/N)\n",
    "\n",
    "def PP2(w1):\n",
    "    return(-a1*w1/N)\n",
    "\n",
    "\n",
    "for i in range (3,N):\n",
    "    \n",
    "\n",
    "    y3=((i-1)*(N-i+1)*fermi(PP2(i-1),PR2(i-1)))/(N**2-N)\n",
    "    y4=((i-1)*(N-i+1)*fermi(PR2(i-1),PP2(i-1)))/(N**2-N)\n",
    "    y5=((i-2)*(i-1)+(N-i+1)*(N-i))/(2*(N**2-N))\n",
    "    \n",
    "    A[int(N*(N+1)/2+i),int(N*(N+1)/2+i+1)]=2*y3\n",
    "    A[int(N*(N+1)/2+i),int(N*(N+1)/2+i-1)]=2*y4\n",
    "    A[int(N*(N+1)/2+i),int(N*(N+1)/2+i)]=2*y5\n",
    "\n",
    "\n",
    "                                            \n",
    "i=2\n",
    "\n",
    "y3=((i-1)*(N-i+1)*fermi(PP2(i-1),PR2(i-1)))/(N**2-N)\n",
    "y4=((i-1)*(N-i+1)*fermi(PR2(i-1),PP2(i-1)))/(N**2-N)\n",
    "y5=((i-2)*(i-1)+(N-i+1)*(N-i))/(2*(N**2-N))\n",
    "\n",
    "A[int(N*(N+1)/2+i),int(N*(N+1)/2+i+1)]=2*y3\n",
    "A[int(N*(N+1)/2+i),1]=2*y4\n",
    "A[int(N*(N+1)/2+i),int(N*(N+1)/2+i)]=2*y5\n",
    "\n",
    "\n",
    "\n",
    "\n",
    "i=N\n",
    "\n",
    "\n",
    "y3=((i-1)*(N-i+1)*fermi(PP2(i-1),PR2(i-1)))/(N**2-N)\n",
    "y4=((i-1)*(N-i+1)*fermi(PR2(i-1),PP2(i-1)))/(N**2-N)\n",
    "y5=((i-2)*(i-1)+(N-i+1)*(N-i))/(2*(N**2-N))\n",
    "\n",
    "A[int(N*(N+1)/2+i),2]=2*y3\n",
    "A[int(N*(N+1)/2+i),int(N*(N+1)/2+i-1)]=2*y4\n",
    "A[int(N*(N+1)/2+i),int(N*(N+1)/2+i)]=2*y5\n",
    "\n"
   ]
  },
  {
   "cell_type": "code",
   "execution_count": 9,
   "metadata": {},
   "outputs": [
    {
     "data": {
      "text/plain": [
       "1128"
      ]
     },
     "execution_count": 9,
     "metadata": {},
     "output_type": "execute_result"
    }
   ],
   "source": [
    "#k is the number of r,N-j-1 is the number of s and j-k+1 is the number of p\n",
    "\n",
    "def PR3(w1,w2):\n",
    "    return((-a2*w2+b3*(N-w1-w2))/N)\n",
    "\n",
    "def PS3(w1,w2):\n",
    "    return((b1*w1-a3*(N-w1-w2))/N)\n",
    "\n",
    "def PP3(w1,w2):\n",
    "    return((-a1*w1+b2*w2)/N)\n",
    "\n",
    "\n",
    "\n",
    "ttt=0\n",
    "for j in range (1,N-2):\n",
    "    for k in range(1,j+1):\n",
    "        h1=((j-k+1)*(k)*fermi(PR3(k,N-j-1),PP3(k,N-j-1)))/(N**2-N)\n",
    "        h2=((j-k+1)*(k)*fermi(PP3(k,N-j-1),PR3(k,N-j-1)))/(N**2-N)\n",
    "        h3=((j-k+1)*(N-j-1)*fermi(PS3(k,N-j-1),PP3(k,N-j-1)))/(N**2-N)\n",
    "        h4=((j-k+1)*(N-j-1)*fermi(PP3(k,N-j-1),PS3(k,N-j-1)))/(N**2-N)\n",
    "        h5=((k)*(N-j-1)*fermi(PS3(k,N-j-1),PR3(k,N-j-1)))/(N**2-N)\n",
    "        h6=((k)*(N-j-1)*fermi(PR3(k,N-j-1),PS3(k,N-j-1)))/(N**2-N)\n",
    "        h7=((k)*(k-1)+(N-j-1)*(N-j-2)+(j-k+1)*(j-k))/(2*(N**2-N))\n",
    "        ttt=ttt+1 \n",
    "        \n",
    "        A[int((j+1)*(j+2)/2+k+2),int((j+1)*(j+2)/2+k+1)]=2*h1\n",
    "        A[int((j+1)*(j+2)/2+k+2),int((j+1)*(j+2)/2+k+3)]=2*h2\n",
    "        \n",
    "        A[int((j+1)*(j+2)/2+k+2),int((j+1)*(j+2)/2+k-j+1)]=2*h4\n",
    "        A[int((j+1)*(j+2)/2+k+2),int((j+1)*(j+2)/2+k-j)]= 2*h6\n",
    "        \n",
    "        A[int((j+1)*(j+2)/2+k+2),int((j+1)*(j+2)/2+k+j+5)]=2*h5\n",
    "        A[int((j+1)*(j+2)/2+k+2),int((j+1)*(j+2)/2+k+j+4)]=2*h3\n",
    "        \n",
    "        A[int((j+1)*(j+2)/2+k+2),int((j+1)*(j+2)/2+k+2)]=2*h7\n",
    "        \n",
    "        \n",
    "ttt  "
   ]
  },
  {
   "cell_type": "code",
   "execution_count": 10,
   "metadata": {},
   "outputs": [
    {
     "data": {
      "text/plain": [
       "48"
      ]
     },
     "execution_count": 10,
     "metadata": {},
     "output_type": "execute_result"
    }
   ],
   "source": [
    "B=0\n",
    "j=N-2\n",
    "for k in range(1,j+1):\n",
    "    B=B+1\n",
    "\n",
    "    h1=((j-k+1)*(k)*fermi(PR3(k,N-j-1),PP3(k,N-j-1)))/(N**2-N)\n",
    "    h2=((j-k+1)*(k)*fermi(PP3(k,N-j-1),PR3(k,N-j-1)))/(N**2-N)\n",
    "    h3=((j-k+1)*(N-j-1)*fermi(PS3(k,N-j-1),PP3(k,N-j-1)))/(N**2-N)\n",
    "    h4=((j-k+1)*(N-j-1)*fermi(PP3(k,N-j-1),PS3(k,N-j-1)))/(N**2-N)\n",
    "    h5=((k)*(N-j-1)*fermi(PS3(k,N-j-1),PR3(k,N-j-1)))/(N**2-N)\n",
    "    h6=((k)*(N-j-1)*fermi(PR3(k,N-j-1),PS3(k,N-j-1)))/(N**2-N)\n",
    "    h7=((k)*(k-1)+(N-j-1)*(N-j-2)+(j-k+1)*(j-k))/(2*(N**2-N))\n",
    "    ttt=ttt+1 \n",
    "\n",
    "    A[int((N)*(N-1)/2+k+2),int((N)*(N-1)/2+k+1)]=2*h1\n",
    "    A[int((N)*(N-1)/2+k+2),int((N)*(N-1)/2+k+3)]=2*h2\n",
    "    \n",
    "    A[int((N)*(N-1)/2+k+2),int((N)*(N-1)/2+k+2-N)]=2*h4\n",
    "    A[int((N)*(N-1)/2+k+2),int((N)*(N-1)/2+k+2+N)]=2*h6\n",
    "    \n",
    "    A[int((N)*(N-1)/2+k+2),int((N)*(N-1)/2+k+3-N)]=2*h5\n",
    "    A[int((N)*(N-1)/2+k+2),int((N)*(N-1)/2+k+N+1)]=2*h3\n",
    "    \n",
    "    A[int((j+1)*(j+2)/2+k+2),int((j+1)*(j+2)/2+k+2)]=2*h7\n",
    "    \n",
    "    \n",
    "B"
   ]
  },
  {
   "cell_type": "code",
   "execution_count": 11,
   "metadata": {},
   "outputs": [],
   "source": [
    "A[0,0]=1\n",
    "A[j1,j1]=1\n",
    "A[j2,j2]=1"
   ]
  },
  {
   "cell_type": "code",
   "execution_count": 12,
   "metadata": {},
   "outputs": [],
   "source": [
    "HJ= np.delete(A, (0), axis=0)\n",
    "HJ1= np.delete(HJ, (0), axis=0)\n",
    "HJ2= np.delete(HJ1, (0), axis=0)\n",
    "HJ3= np.delete(HJ2, (0), axis=1)\n",
    "HJ4= np.delete(HJ3, (0), axis=1)\n",
    "Q= np.delete(HJ4, (0), axis=1)"
   ]
  },
  {
   "cell_type": "code",
   "execution_count": 13,
   "metadata": {},
   "outputs": [],
   "source": [
    "FA=np.linalg.inv(II-Q)\n",
    "R=np.zeros((n-3,3))\n",
    "\n",
    "R[1,0]=A[4,0]\n",
    "R[0,0]=A[3,0]\n",
    "\n",
    "R[int((N-1)*(N)/2)-1,1]=A[int((N-1)*(N)/2)+2,1]\n",
    "R[int((N+1)*(N)/2)-1,1]=A[int((N+1)*(N)/2)+2,1]\n",
    "\n",
    "\n",
    "R[int((N+1)*(N+2)/2)-4,2]=A[int((N+1)*(N+2)/2)-1,2]\n",
    "R[int((N)*(N+1)/2)-2,2]=A[int((N)*(N+1)/2)+1,2]\n"
   ]
  },
  {
   "cell_type": "code",
   "execution_count": 14,
   "metadata": {},
   "outputs": [],
   "source": [
    "B=np.matmul( FA,R)"
   ]
  },
  {
   "cell_type": "code",
   "execution_count": 15,
   "metadata": {},
   "outputs": [],
   "source": [
    "ros=[]\n",
    "for x in range (0,n-3):\n",
    "    ros.append((B[x][0]))\n",
    "    \n",
    "rop=[]\n",
    "for x in range (0,n-3):\n",
    "    rop.append((B[x][1]))\n",
    "    \n",
    "ror=[]\n",
    "for x in range (0,n-3):\n",
    "    ror.append((B[x][2]))"
   ]
  },
  {
   "cell_type": "markdown",
   "metadata": {},
   "source": [
    "# fixation probabilities"
   ]
  },
  {
   "cell_type": "code",
   "execution_count": 17,
   "metadata": {
    "scrolled": true
   },
   "outputs": [
    {
     "ename": "TypeError",
     "evalue": "FigureCanvasPdf.print_pdf() got an unexpected keyword argument 'dbi'",
     "output_type": "error",
     "traceback": [
      "\u001b[1;31m---------------------------------------------------------------------------\u001b[0m",
      "\u001b[1;31mTypeError\u001b[0m                                 Traceback (most recent call last)",
      "Cell \u001b[1;32mIn[17], line 41\u001b[0m\n\u001b[0;32m     37\u001b[0m ER[N][\u001b[38;5;241m2\u001b[39m\u001b[38;5;241m*\u001b[39mN\u001b[38;5;241m-\u001b[39m\u001b[38;5;241m1\u001b[39m]\u001b[38;5;241m=\u001b[39mER[N][\u001b[38;5;241m2\u001b[39m\u001b[38;5;241m*\u001b[39mN]            \n\u001b[0;32m     40\u001b[0m ax \u001b[38;5;241m=\u001b[39m sns\u001b[38;5;241m.\u001b[39mheatmap(ER,yticklabels\u001b[38;5;241m=\u001b[39m\u001b[38;5;28;01mFalse\u001b[39;00m,cmap\u001b[38;5;241m=\u001b[39m\u001b[38;5;124m'\u001b[39m\u001b[38;5;124mSpectral\u001b[39m\u001b[38;5;124m'\u001b[39m)\n\u001b[1;32m---> 41\u001b[0m \u001b[43mplt\u001b[49m\u001b[38;5;241;43m.\u001b[39;49m\u001b[43msavefig\u001b[49m\u001b[43m(\u001b[49m\u001b[38;5;124;43m'\u001b[39;49m\u001b[38;5;124;43mN=50-An.pro3.pdf\u001b[39;49m\u001b[38;5;124;43m'\u001b[39;49m\u001b[43m,\u001b[49m\u001b[43mdbi\u001b[49m\u001b[38;5;241;43m=\u001b[39;49m\u001b[38;5;241;43m1000\u001b[39;49m\u001b[43m)\u001b[49m\n",
      "File \u001b[1;32mc:\\Volume_D\\Programming\\Tesi\\.env\\lib\\site-packages\\matplotlib\\pyplot.py:1119\u001b[0m, in \u001b[0;36msavefig\u001b[1;34m(*args, **kwargs)\u001b[0m\n\u001b[0;32m   1116\u001b[0m fig \u001b[38;5;241m=\u001b[39m gcf()\n\u001b[0;32m   1117\u001b[0m \u001b[38;5;66;03m# savefig default implementation has no return, so mypy is unhappy\u001b[39;00m\n\u001b[0;32m   1118\u001b[0m \u001b[38;5;66;03m# presumably this is here because subclasses can return?\u001b[39;00m\n\u001b[1;32m-> 1119\u001b[0m res \u001b[38;5;241m=\u001b[39m fig\u001b[38;5;241m.\u001b[39msavefig(\u001b[38;5;241m*\u001b[39margs, \u001b[38;5;241m*\u001b[39m\u001b[38;5;241m*\u001b[39mkwargs)  \u001b[38;5;66;03m# type: ignore[func-returns-value]\u001b[39;00m\n\u001b[0;32m   1120\u001b[0m fig\u001b[38;5;241m.\u001b[39mcanvas\u001b[38;5;241m.\u001b[39mdraw_idle()  \u001b[38;5;66;03m# Need this if 'transparent=True', to reset colors.\u001b[39;00m\n\u001b[0;32m   1121\u001b[0m \u001b[38;5;28;01mreturn\u001b[39;00m res\n",
      "File \u001b[1;32mc:\\Volume_D\\Programming\\Tesi\\.env\\lib\\site-packages\\matplotlib\\figure.py:3390\u001b[0m, in \u001b[0;36mFigure.savefig\u001b[1;34m(self, fname, transparent, **kwargs)\u001b[0m\n\u001b[0;32m   3388\u001b[0m     \u001b[38;5;28;01mfor\u001b[39;00m ax \u001b[38;5;129;01min\u001b[39;00m \u001b[38;5;28mself\u001b[39m\u001b[38;5;241m.\u001b[39maxes:\n\u001b[0;32m   3389\u001b[0m         _recursively_make_axes_transparent(stack, ax)\n\u001b[1;32m-> 3390\u001b[0m \u001b[38;5;28mself\u001b[39m\u001b[38;5;241m.\u001b[39mcanvas\u001b[38;5;241m.\u001b[39mprint_figure(fname, \u001b[38;5;241m*\u001b[39m\u001b[38;5;241m*\u001b[39mkwargs)\n",
      "File \u001b[1;32mc:\\Volume_D\\Programming\\Tesi\\.env\\lib\\site-packages\\matplotlib\\backend_bases.py:2193\u001b[0m, in \u001b[0;36mFigureCanvasBase.print_figure\u001b[1;34m(self, filename, dpi, facecolor, edgecolor, orientation, format, bbox_inches, pad_inches, bbox_extra_artists, backend, **kwargs)\u001b[0m\n\u001b[0;32m   2189\u001b[0m \u001b[38;5;28;01mtry\u001b[39;00m:\n\u001b[0;32m   2190\u001b[0m     \u001b[38;5;66;03m# _get_renderer may change the figure dpi (as vector formats\u001b[39;00m\n\u001b[0;32m   2191\u001b[0m     \u001b[38;5;66;03m# force the figure dpi to 72), so we need to set it again here.\u001b[39;00m\n\u001b[0;32m   2192\u001b[0m     \u001b[38;5;28;01mwith\u001b[39;00m cbook\u001b[38;5;241m.\u001b[39m_setattr_cm(\u001b[38;5;28mself\u001b[39m\u001b[38;5;241m.\u001b[39mfigure, dpi\u001b[38;5;241m=\u001b[39mdpi):\n\u001b[1;32m-> 2193\u001b[0m         result \u001b[38;5;241m=\u001b[39m print_method(\n\u001b[0;32m   2194\u001b[0m             filename,\n\u001b[0;32m   2195\u001b[0m             facecolor\u001b[38;5;241m=\u001b[39mfacecolor,\n\u001b[0;32m   2196\u001b[0m             edgecolor\u001b[38;5;241m=\u001b[39medgecolor,\n\u001b[0;32m   2197\u001b[0m             orientation\u001b[38;5;241m=\u001b[39morientation,\n\u001b[0;32m   2198\u001b[0m             bbox_inches_restore\u001b[38;5;241m=\u001b[39m_bbox_inches_restore,\n\u001b[0;32m   2199\u001b[0m             \u001b[38;5;241m*\u001b[39m\u001b[38;5;241m*\u001b[39mkwargs)\n\u001b[0;32m   2200\u001b[0m \u001b[38;5;28;01mfinally\u001b[39;00m:\n\u001b[0;32m   2201\u001b[0m     \u001b[38;5;28;01mif\u001b[39;00m bbox_inches \u001b[38;5;129;01mand\u001b[39;00m restore_bbox:\n",
      "File \u001b[1;32mc:\\Volume_D\\Programming\\Tesi\\.env\\lib\\site-packages\\matplotlib\\backend_bases.py:2043\u001b[0m, in \u001b[0;36mFigureCanvasBase._switch_canvas_and_return_print_method.<locals>.<lambda>\u001b[1;34m(*args, **kwargs)\u001b[0m\n\u001b[0;32m   2039\u001b[0m     optional_kws \u001b[38;5;241m=\u001b[39m {  \u001b[38;5;66;03m# Passed by print_figure for other renderers.\u001b[39;00m\n\u001b[0;32m   2040\u001b[0m         \u001b[38;5;124m\"\u001b[39m\u001b[38;5;124mdpi\u001b[39m\u001b[38;5;124m\"\u001b[39m, \u001b[38;5;124m\"\u001b[39m\u001b[38;5;124mfacecolor\u001b[39m\u001b[38;5;124m\"\u001b[39m, \u001b[38;5;124m\"\u001b[39m\u001b[38;5;124medgecolor\u001b[39m\u001b[38;5;124m\"\u001b[39m, \u001b[38;5;124m\"\u001b[39m\u001b[38;5;124morientation\u001b[39m\u001b[38;5;124m\"\u001b[39m,\n\u001b[0;32m   2041\u001b[0m         \u001b[38;5;124m\"\u001b[39m\u001b[38;5;124mbbox_inches_restore\u001b[39m\u001b[38;5;124m\"\u001b[39m}\n\u001b[0;32m   2042\u001b[0m     skip \u001b[38;5;241m=\u001b[39m optional_kws \u001b[38;5;241m-\u001b[39m {\u001b[38;5;241m*\u001b[39minspect\u001b[38;5;241m.\u001b[39msignature(meth)\u001b[38;5;241m.\u001b[39mparameters}\n\u001b[1;32m-> 2043\u001b[0m     print_method \u001b[38;5;241m=\u001b[39m functools\u001b[38;5;241m.\u001b[39mwraps(meth)(\u001b[38;5;28;01mlambda\u001b[39;00m \u001b[38;5;241m*\u001b[39margs, \u001b[38;5;241m*\u001b[39m\u001b[38;5;241m*\u001b[39mkwargs: meth(\n\u001b[0;32m   2044\u001b[0m         \u001b[38;5;241m*\u001b[39margs, \u001b[38;5;241m*\u001b[39m\u001b[38;5;241m*\u001b[39m{k: v \u001b[38;5;28;01mfor\u001b[39;00m k, v \u001b[38;5;129;01min\u001b[39;00m kwargs\u001b[38;5;241m.\u001b[39mitems() \u001b[38;5;28;01mif\u001b[39;00m k \u001b[38;5;129;01mnot\u001b[39;00m \u001b[38;5;129;01min\u001b[39;00m skip}))\n\u001b[0;32m   2045\u001b[0m \u001b[38;5;28;01melse\u001b[39;00m:  \u001b[38;5;66;03m# Let third-parties do as they see fit.\u001b[39;00m\n\u001b[0;32m   2046\u001b[0m     print_method \u001b[38;5;241m=\u001b[39m meth\n",
      "\u001b[1;31mTypeError\u001b[0m: FigureCanvasPdf.print_pdf() got an unexpected keyword argument 'dbi'"
     ]
    },
    {
     "data": {
      "image/png": "[encoded data removed]",
      "text/plain": [
       "<Figure size 640x480 with 2 Axes>"
      ]
     },
     "metadata": {},
     "output_type": "display_data"
    }
   ],
   "source": [
    "# fixation probability of strategy P\n",
    "WW=[0,1,0]\n",
    "JKL=WW+rop\n",
    "PROz=JKL\n",
    "def rey(x):\n",
    "    if x==1:\n",
    "        return([PROz[0]])\n",
    "    if x==N+1:\n",
    "        GH=[PROz[1]]\n",
    "        for s in range (int(x*(x-1)//2+2),len(PROz)):\n",
    "            GH.append(PROz[s])\n",
    "        GH.append(PROz[2])\n",
    "        return(GH)\n",
    "        \n",
    "    ui=[]\n",
    "    for j in range (int(x*(x+1)//2-x+2),int(x*(x+1)//2+2)):\n",
    "        ui.append(PROz[j])\n",
    "    return(ui)\n",
    "\n",
    "\n",
    "ER=np.zeros((N+2,2*N+1))\n",
    "for i in range (0,N+2):\n",
    "    for j in range (0,2*N+1):\n",
    "        ER[i][j]='nan'\n",
    "for j in range (1,N+2):\n",
    "    for k in range (0, len(rey(j))):\n",
    "        ER[j-1][N-len(rey(j))+2*k+1]=rey(j)[k]\n",
    "        \n",
    "        \n",
    "\n",
    "\n",
    "        \n",
    "for x in range (0,N+1):\n",
    "    for y in range (0,2*N-1):\n",
    "        if str(ER[x,y])=='nan' and str(ER[x,y-1])!='nan' and str(ER[x,y+1])!='nan':\n",
    "            ER[x,y]=ER[x,y+1]\n",
    "ER[N][2*N-1]=ER[N][2*N]            \n",
    "            \n",
    "\n",
    "ax = sns.heatmap(ER,yticklabels=False,cmap='Spectral')\n",
    "plt.savefig('N=50-An.pro3.pdf',dbi=1000)"
   ]
  },
  {
   "cell_type": "code",
   "execution_count": 18,
   "metadata": {},
   "outputs": [
    {
     "ename": "TypeError",
     "evalue": "FigureCanvasPdf.print_pdf() got an unexpected keyword argument 'dbi'",
     "output_type": "error",
     "traceback": [
      "\u001b[1;31m---------------------------------------------------------------------------\u001b[0m",
      "\u001b[1;31mTypeError\u001b[0m                                 Traceback (most recent call last)",
      "Cell \u001b[1;32mIn[18], line 41\u001b[0m\n\u001b[0;32m     37\u001b[0m ER[N][\u001b[38;5;241m2\u001b[39m\u001b[38;5;241m*\u001b[39mN\u001b[38;5;241m-\u001b[39m\u001b[38;5;241m1\u001b[39m]\u001b[38;5;241m=\u001b[39mER[N][\u001b[38;5;241m2\u001b[39m\u001b[38;5;241m*\u001b[39mN]            \n\u001b[0;32m     40\u001b[0m ax \u001b[38;5;241m=\u001b[39m sns\u001b[38;5;241m.\u001b[39mheatmap(ER,yticklabels\u001b[38;5;241m=\u001b[39m\u001b[38;5;28;01mFalse\u001b[39;00m,cmap\u001b[38;5;241m=\u001b[39m\u001b[38;5;124m'\u001b[39m\u001b[38;5;124mSpectral\u001b[39m\u001b[38;5;124m'\u001b[39m)\n\u001b[1;32m---> 41\u001b[0m \u001b[43mplt\u001b[49m\u001b[38;5;241;43m.\u001b[39;49m\u001b[43msavefig\u001b[49m\u001b[43m(\u001b[49m\u001b[38;5;124;43m'\u001b[39;49m\u001b[38;5;124;43mN=50-An.pro3.pdf\u001b[39;49m\u001b[38;5;124;43m'\u001b[39;49m\u001b[43m,\u001b[49m\u001b[43mdbi\u001b[49m\u001b[38;5;241;43m=\u001b[39;49m\u001b[38;5;241;43m1000\u001b[39;49m\u001b[43m)\u001b[49m\n",
      "File \u001b[1;32mc:\\Volume_D\\Programming\\Tesi\\.env\\lib\\site-packages\\matplotlib\\pyplot.py:1119\u001b[0m, in \u001b[0;36msavefig\u001b[1;34m(*args, **kwargs)\u001b[0m\n\u001b[0;32m   1116\u001b[0m fig \u001b[38;5;241m=\u001b[39m gcf()\n\u001b[0;32m   1117\u001b[0m \u001b[38;5;66;03m# savefig default implementation has no return, so mypy is unhappy\u001b[39;00m\n\u001b[0;32m   1118\u001b[0m \u001b[38;5;66;03m# presumably this is here because subclasses can return?\u001b[39;00m\n\u001b[1;32m-> 1119\u001b[0m res \u001b[38;5;241m=\u001b[39m fig\u001b[38;5;241m.\u001b[39msavefig(\u001b[38;5;241m*\u001b[39margs, \u001b[38;5;241m*\u001b[39m\u001b[38;5;241m*\u001b[39mkwargs)  \u001b[38;5;66;03m# type: ignore[func-returns-value]\u001b[39;00m\n\u001b[0;32m   1120\u001b[0m fig\u001b[38;5;241m.\u001b[39mcanvas\u001b[38;5;241m.\u001b[39mdraw_idle()  \u001b[38;5;66;03m# Need this if 'transparent=True', to reset colors.\u001b[39;00m\n\u001b[0;32m   1121\u001b[0m \u001b[38;5;28;01mreturn\u001b[39;00m res\n",
      "File \u001b[1;32mc:\\Volume_D\\Programming\\Tesi\\.env\\lib\\site-packages\\matplotlib\\figure.py:3390\u001b[0m, in \u001b[0;36mFigure.savefig\u001b[1;34m(self, fname, transparent, **kwargs)\u001b[0m\n\u001b[0;32m   3388\u001b[0m     \u001b[38;5;28;01mfor\u001b[39;00m ax \u001b[38;5;129;01min\u001b[39;00m \u001b[38;5;28mself\u001b[39m\u001b[38;5;241m.\u001b[39maxes:\n\u001b[0;32m   3389\u001b[0m         _recursively_make_axes_transparent(stack, ax)\n\u001b[1;32m-> 3390\u001b[0m \u001b[38;5;28mself\u001b[39m\u001b[38;5;241m.\u001b[39mcanvas\u001b[38;5;241m.\u001b[39mprint_figure(fname, \u001b[38;5;241m*\u001b[39m\u001b[38;5;241m*\u001b[39mkwargs)\n",
      "File \u001b[1;32mc:\\Volume_D\\Programming\\Tesi\\.env\\lib\\site-packages\\matplotlib\\backend_bases.py:2193\u001b[0m, in \u001b[0;36mFigureCanvasBase.print_figure\u001b[1;34m(self, filename, dpi, facecolor, edgecolor, orientation, format, bbox_inches, pad_inches, bbox_extra_artists, backend, **kwargs)\u001b[0m\n\u001b[0;32m   2189\u001b[0m \u001b[38;5;28;01mtry\u001b[39;00m:\n\u001b[0;32m   2190\u001b[0m     \u001b[38;5;66;03m# _get_renderer may change the figure dpi (as vector formats\u001b[39;00m\n\u001b[0;32m   2191\u001b[0m     \u001b[38;5;66;03m# force the figure dpi to 72), so we need to set it again here.\u001b[39;00m\n\u001b[0;32m   2192\u001b[0m     \u001b[38;5;28;01mwith\u001b[39;00m cbook\u001b[38;5;241m.\u001b[39m_setattr_cm(\u001b[38;5;28mself\u001b[39m\u001b[38;5;241m.\u001b[39mfigure, dpi\u001b[38;5;241m=\u001b[39mdpi):\n\u001b[1;32m-> 2193\u001b[0m         result \u001b[38;5;241m=\u001b[39m print_method(\n\u001b[0;32m   2194\u001b[0m             filename,\n\u001b[0;32m   2195\u001b[0m             facecolor\u001b[38;5;241m=\u001b[39mfacecolor,\n\u001b[0;32m   2196\u001b[0m             edgecolor\u001b[38;5;241m=\u001b[39medgecolor,\n\u001b[0;32m   2197\u001b[0m             orientation\u001b[38;5;241m=\u001b[39morientation,\n\u001b[0;32m   2198\u001b[0m             bbox_inches_restore\u001b[38;5;241m=\u001b[39m_bbox_inches_restore,\n\u001b[0;32m   2199\u001b[0m             \u001b[38;5;241m*\u001b[39m\u001b[38;5;241m*\u001b[39mkwargs)\n\u001b[0;32m   2200\u001b[0m \u001b[38;5;28;01mfinally\u001b[39;00m:\n\u001b[0;32m   2201\u001b[0m     \u001b[38;5;28;01mif\u001b[39;00m bbox_inches \u001b[38;5;129;01mand\u001b[39;00m restore_bbox:\n",
      "File \u001b[1;32mc:\\Volume_D\\Programming\\Tesi\\.env\\lib\\site-packages\\matplotlib\\backend_bases.py:2043\u001b[0m, in \u001b[0;36mFigureCanvasBase._switch_canvas_and_return_print_method.<locals>.<lambda>\u001b[1;34m(*args, **kwargs)\u001b[0m\n\u001b[0;32m   2039\u001b[0m     optional_kws \u001b[38;5;241m=\u001b[39m {  \u001b[38;5;66;03m# Passed by print_figure for other renderers.\u001b[39;00m\n\u001b[0;32m   2040\u001b[0m         \u001b[38;5;124m\"\u001b[39m\u001b[38;5;124mdpi\u001b[39m\u001b[38;5;124m\"\u001b[39m, \u001b[38;5;124m\"\u001b[39m\u001b[38;5;124mfacecolor\u001b[39m\u001b[38;5;124m\"\u001b[39m, \u001b[38;5;124m\"\u001b[39m\u001b[38;5;124medgecolor\u001b[39m\u001b[38;5;124m\"\u001b[39m, \u001b[38;5;124m\"\u001b[39m\u001b[38;5;124morientation\u001b[39m\u001b[38;5;124m\"\u001b[39m,\n\u001b[0;32m   2041\u001b[0m         \u001b[38;5;124m\"\u001b[39m\u001b[38;5;124mbbox_inches_restore\u001b[39m\u001b[38;5;124m\"\u001b[39m}\n\u001b[0;32m   2042\u001b[0m     skip \u001b[38;5;241m=\u001b[39m optional_kws \u001b[38;5;241m-\u001b[39m {\u001b[38;5;241m*\u001b[39minspect\u001b[38;5;241m.\u001b[39msignature(meth)\u001b[38;5;241m.\u001b[39mparameters}\n\u001b[1;32m-> 2043\u001b[0m     print_method \u001b[38;5;241m=\u001b[39m functools\u001b[38;5;241m.\u001b[39mwraps(meth)(\u001b[38;5;28;01mlambda\u001b[39;00m \u001b[38;5;241m*\u001b[39margs, \u001b[38;5;241m*\u001b[39m\u001b[38;5;241m*\u001b[39mkwargs: meth(\n\u001b[0;32m   2044\u001b[0m         \u001b[38;5;241m*\u001b[39margs, \u001b[38;5;241m*\u001b[39m\u001b[38;5;241m*\u001b[39m{k: v \u001b[38;5;28;01mfor\u001b[39;00m k, v \u001b[38;5;129;01min\u001b[39;00m kwargs\u001b[38;5;241m.\u001b[39mitems() \u001b[38;5;28;01mif\u001b[39;00m k \u001b[38;5;129;01mnot\u001b[39;00m \u001b[38;5;129;01min\u001b[39;00m skip}))\n\u001b[0;32m   2045\u001b[0m \u001b[38;5;28;01melse\u001b[39;00m:  \u001b[38;5;66;03m# Let third-parties do as they see fit.\u001b[39;00m\n\u001b[0;32m   2046\u001b[0m     print_method \u001b[38;5;241m=\u001b[39m meth\n",
      "\u001b[1;31mTypeError\u001b[0m: FigureCanvasPdf.print_pdf() got an unexpected keyword argument 'dbi'"
     ]
    },
    {
     "data": {
      "image/png": "[encoded data removed]",
      "text/plain": [
       "<Figure size 640x480 with 2 Axes>"
      ]
     },
     "metadata": {},
     "output_type": "display_data"
    }
   ],
   "source": [
    "# fixation probability of strategy S\n",
    "WW=[1,0,0]\n",
    "JKL=WW+ros\n",
    "PROz=JKL\n",
    "def rey(x):\n",
    "    if x==1:\n",
    "        return([PROz[0]])\n",
    "    if x==N+1:\n",
    "        GH=[PROz[1]]\n",
    "        for s in range (int(x*(x-1)//2+2),len(PROz)):\n",
    "            GH.append(PROz[s])\n",
    "        GH.append(PROz[2])\n",
    "        return(GH)\n",
    "        \n",
    "    ui=[]\n",
    "    for j in range (int(x*(x+1)//2-x+2),int(x*(x+1)//2+2)):\n",
    "        ui.append(PROz[j])\n",
    "    return(ui)\n",
    "\n",
    "\n",
    "ER=np.zeros((N+2,2*N+1))\n",
    "for i in range (0,N+2):\n",
    "    for j in range (0,2*N+1):\n",
    "        ER[i][j]='nan'\n",
    "for j in range (1,N+2):\n",
    "    for k in range (0, len(rey(j))):\n",
    "        ER[j-1][N-len(rey(j))+2*k+1]=rey(j)[k]\n",
    "        \n",
    "        \n",
    "\n",
    "\n",
    "        \n",
    "for x in range (0,N+1):\n",
    "    for y in range (0,2*N-1):\n",
    "        if str(ER[x,y])=='nan' and str(ER[x,y-1])!='nan' and str(ER[x,y+1])!='nan':\n",
    "            ER[x,y]=ER[x,y+1]\n",
    "ER[N][2*N-1]=ER[N][2*N]            \n",
    "            \n",
    "\n",
    "ax = sns.heatmap(ER,yticklabels=False,cmap='Spectral')\n",
    "plt.savefig('N=50-An.pro3.pdf',dbi=1000)"
   ]
  },
  {
   "cell_type": "code",
   "execution_count": 142,
   "metadata": {},
   "outputs": [
    {
     "name": "stderr",
     "output_type": "stream",
     "text": [
      "C:\\Users\\Mahdi\\AppData\\Local\\Temp/ipykernel_8056/3899349712.py:41: MatplotlibDeprecationWarning: savefig() got unexpected keyword argument \"dbi\" which is no longer supported as of 3.3 and will become an error two minor releases later\n",
      "  plt.savefig('N=50-An.pro3.pdf',dbi=1000)\n"
     ]
    },
    {
     "data": {
      "image/png": "[encoded data removed]",
      "text/plain": [
       "<Figure size 432x288 with 2 Axes>"
      ]
     },
     "metadata": {
      "needs_background": "light"
     },
     "output_type": "display_data"
    }
   ],
   "source": [
    "# fixation probability of strategy R\n",
    "WW=[0,0,1]\n",
    "JKL=WW+ror\n",
    "PROz=JKL\n",
    "def rey(x):\n",
    "    if x==1:\n",
    "        return([PROz[0]])\n",
    "    if x==N+1:\n",
    "        GH=[PROz[1]]\n",
    "        for s in range (int(x*(x-1)//2+2),len(PROz)):\n",
    "            GH.append(PROz[s])\n",
    "        GH.append(PROz[2])\n",
    "        return(GH)\n",
    "        \n",
    "    ui=[]\n",
    "    for j in range (int(x*(x+1)//2-x+2),int(x*(x+1)//2+2)):\n",
    "        ui.append(PROz[j])\n",
    "    return(ui)\n",
    "\n",
    "\n",
    "ER=np.zeros((N+2,2*N+1))\n",
    "for i in range (0,N+2):\n",
    "    for j in range (0,2*N+1):\n",
    "        ER[i][j]='nan'\n",
    "for j in range (1,N+2):\n",
    "    for k in range (0, len(rey(j))):\n",
    "        ER[j-1][N-len(rey(j))+2*k+1]=rey(j)[k]\n",
    "        \n",
    "        \n",
    "\n",
    "\n",
    "        \n",
    "for x in range (0,N+1):\n",
    "    for y in range (0,2*N-1):\n",
    "        if str(ER[x,y])=='nan' and str(ER[x,y-1])!='nan' and str(ER[x,y+1])!='nan':\n",
    "            ER[x,y]=ER[x,y+1]\n",
    "ER[N][2*N-1]=ER[N][2*N]            \n",
    "            \n",
    "\n",
    "ax = sns.heatmap(ER,yticklabels=False,cmap='Spectral')\n",
    "plt.savefig('N=50-An.pro3.pdf',dbi=1000)"
   ]
  },
  {
   "cell_type": "markdown",
   "metadata": {},
   "source": [
    "# fixation times"
   ]
  },
  {
   "cell_type": "code",
   "execution_count": 19,
   "metadata": {},
   "outputs": [
    {
     "ename": "TypeError",
     "evalue": "FigureCanvasPdf.print_pdf() got an unexpected keyword argument 'dbi'",
     "output_type": "error",
     "traceback": [
      "\u001b[1;31m---------------------------------------------------------------------------\u001b[0m",
      "\u001b[1;31mTypeError\u001b[0m                                 Traceback (most recent call last)",
      "Cell \u001b[1;32mIn[19], line 62\u001b[0m\n\u001b[0;32m     59\u001b[0m ERt[N][\u001b[38;5;241m0\u001b[39m]\u001b[38;5;241m=\u001b[39m\u001b[38;5;241m0\u001b[39m\n\u001b[0;32m     61\u001b[0m ax \u001b[38;5;241m=\u001b[39m sns\u001b[38;5;241m.\u001b[39mheatmap(ERt,yticklabels\u001b[38;5;241m=\u001b[39m\u001b[38;5;28;01mFalse\u001b[39;00m,cmap\u001b[38;5;241m=\u001b[39m\u001b[38;5;124m'\u001b[39m\u001b[38;5;124mSpectral\u001b[39m\u001b[38;5;124m'\u001b[39m) \n\u001b[1;32m---> 62\u001b[0m \u001b[43mplt\u001b[49m\u001b[38;5;241;43m.\u001b[39;49m\u001b[43msavefig\u001b[49m\u001b[43m(\u001b[49m\u001b[38;5;124;43m'\u001b[39;49m\u001b[38;5;124;43mN=50-An.time.pdf\u001b[39;49m\u001b[38;5;124;43m'\u001b[39;49m\u001b[43m,\u001b[49m\u001b[43mdbi\u001b[49m\u001b[38;5;241;43m=\u001b[39;49m\u001b[38;5;241;43m1000\u001b[39;49m\u001b[43m)\u001b[49m\n",
      "File \u001b[1;32mc:\\Volume_D\\Programming\\Tesi\\.env\\lib\\site-packages\\matplotlib\\pyplot.py:1119\u001b[0m, in \u001b[0;36msavefig\u001b[1;34m(*args, **kwargs)\u001b[0m\n\u001b[0;32m   1116\u001b[0m fig \u001b[38;5;241m=\u001b[39m gcf()\n\u001b[0;32m   1117\u001b[0m \u001b[38;5;66;03m# savefig default implementation has no return, so mypy is unhappy\u001b[39;00m\n\u001b[0;32m   1118\u001b[0m \u001b[38;5;66;03m# presumably this is here because subclasses can return?\u001b[39;00m\n\u001b[1;32m-> 1119\u001b[0m res \u001b[38;5;241m=\u001b[39m fig\u001b[38;5;241m.\u001b[39msavefig(\u001b[38;5;241m*\u001b[39margs, \u001b[38;5;241m*\u001b[39m\u001b[38;5;241m*\u001b[39mkwargs)  \u001b[38;5;66;03m# type: ignore[func-returns-value]\u001b[39;00m\n\u001b[0;32m   1120\u001b[0m fig\u001b[38;5;241m.\u001b[39mcanvas\u001b[38;5;241m.\u001b[39mdraw_idle()  \u001b[38;5;66;03m# Need this if 'transparent=True', to reset colors.\u001b[39;00m\n\u001b[0;32m   1121\u001b[0m \u001b[38;5;28;01mreturn\u001b[39;00m res\n",
      "File \u001b[1;32mc:\\Volume_D\\Programming\\Tesi\\.env\\lib\\site-packages\\matplotlib\\figure.py:3390\u001b[0m, in \u001b[0;36mFigure.savefig\u001b[1;34m(self, fname, transparent, **kwargs)\u001b[0m\n\u001b[0;32m   3388\u001b[0m     \u001b[38;5;28;01mfor\u001b[39;00m ax \u001b[38;5;129;01min\u001b[39;00m \u001b[38;5;28mself\u001b[39m\u001b[38;5;241m.\u001b[39maxes:\n\u001b[0;32m   3389\u001b[0m         _recursively_make_axes_transparent(stack, ax)\n\u001b[1;32m-> 3390\u001b[0m \u001b[38;5;28mself\u001b[39m\u001b[38;5;241m.\u001b[39mcanvas\u001b[38;5;241m.\u001b[39mprint_figure(fname, \u001b[38;5;241m*\u001b[39m\u001b[38;5;241m*\u001b[39mkwargs)\n",
      "File \u001b[1;32mc:\\Volume_D\\Programming\\Tesi\\.env\\lib\\site-packages\\matplotlib\\backend_bases.py:2193\u001b[0m, in \u001b[0;36mFigureCanvasBase.print_figure\u001b[1;34m(self, filename, dpi, facecolor, edgecolor, orientation, format, bbox_inches, pad_inches, bbox_extra_artists, backend, **kwargs)\u001b[0m\n\u001b[0;32m   2189\u001b[0m \u001b[38;5;28;01mtry\u001b[39;00m:\n\u001b[0;32m   2190\u001b[0m     \u001b[38;5;66;03m# _get_renderer may change the figure dpi (as vector formats\u001b[39;00m\n\u001b[0;32m   2191\u001b[0m     \u001b[38;5;66;03m# force the figure dpi to 72), so we need to set it again here.\u001b[39;00m\n\u001b[0;32m   2192\u001b[0m     \u001b[38;5;28;01mwith\u001b[39;00m cbook\u001b[38;5;241m.\u001b[39m_setattr_cm(\u001b[38;5;28mself\u001b[39m\u001b[38;5;241m.\u001b[39mfigure, dpi\u001b[38;5;241m=\u001b[39mdpi):\n\u001b[1;32m-> 2193\u001b[0m         result \u001b[38;5;241m=\u001b[39m print_method(\n\u001b[0;32m   2194\u001b[0m             filename,\n\u001b[0;32m   2195\u001b[0m             facecolor\u001b[38;5;241m=\u001b[39mfacecolor,\n\u001b[0;32m   2196\u001b[0m             edgecolor\u001b[38;5;241m=\u001b[39medgecolor,\n\u001b[0;32m   2197\u001b[0m             orientation\u001b[38;5;241m=\u001b[39morientation,\n\u001b[0;32m   2198\u001b[0m             bbox_inches_restore\u001b[38;5;241m=\u001b[39m_bbox_inches_restore,\n\u001b[0;32m   2199\u001b[0m             \u001b[38;5;241m*\u001b[39m\u001b[38;5;241m*\u001b[39mkwargs)\n\u001b[0;32m   2200\u001b[0m \u001b[38;5;28;01mfinally\u001b[39;00m:\n\u001b[0;32m   2201\u001b[0m     \u001b[38;5;28;01mif\u001b[39;00m bbox_inches \u001b[38;5;129;01mand\u001b[39;00m restore_bbox:\n",
      "File \u001b[1;32mc:\\Volume_D\\Programming\\Tesi\\.env\\lib\\site-packages\\matplotlib\\backend_bases.py:2043\u001b[0m, in \u001b[0;36mFigureCanvasBase._switch_canvas_and_return_print_method.<locals>.<lambda>\u001b[1;34m(*args, **kwargs)\u001b[0m\n\u001b[0;32m   2039\u001b[0m     optional_kws \u001b[38;5;241m=\u001b[39m {  \u001b[38;5;66;03m# Passed by print_figure for other renderers.\u001b[39;00m\n\u001b[0;32m   2040\u001b[0m         \u001b[38;5;124m\"\u001b[39m\u001b[38;5;124mdpi\u001b[39m\u001b[38;5;124m\"\u001b[39m, \u001b[38;5;124m\"\u001b[39m\u001b[38;5;124mfacecolor\u001b[39m\u001b[38;5;124m\"\u001b[39m, \u001b[38;5;124m\"\u001b[39m\u001b[38;5;124medgecolor\u001b[39m\u001b[38;5;124m\"\u001b[39m, \u001b[38;5;124m\"\u001b[39m\u001b[38;5;124morientation\u001b[39m\u001b[38;5;124m\"\u001b[39m,\n\u001b[0;32m   2041\u001b[0m         \u001b[38;5;124m\"\u001b[39m\u001b[38;5;124mbbox_inches_restore\u001b[39m\u001b[38;5;124m\"\u001b[39m}\n\u001b[0;32m   2042\u001b[0m     skip \u001b[38;5;241m=\u001b[39m optional_kws \u001b[38;5;241m-\u001b[39m {\u001b[38;5;241m*\u001b[39minspect\u001b[38;5;241m.\u001b[39msignature(meth)\u001b[38;5;241m.\u001b[39mparameters}\n\u001b[1;32m-> 2043\u001b[0m     print_method \u001b[38;5;241m=\u001b[39m functools\u001b[38;5;241m.\u001b[39mwraps(meth)(\u001b[38;5;28;01mlambda\u001b[39;00m \u001b[38;5;241m*\u001b[39margs, \u001b[38;5;241m*\u001b[39m\u001b[38;5;241m*\u001b[39mkwargs: meth(\n\u001b[0;32m   2044\u001b[0m         \u001b[38;5;241m*\u001b[39margs, \u001b[38;5;241m*\u001b[39m\u001b[38;5;241m*\u001b[39m{k: v \u001b[38;5;28;01mfor\u001b[39;00m k, v \u001b[38;5;129;01min\u001b[39;00m kwargs\u001b[38;5;241m.\u001b[39mitems() \u001b[38;5;28;01mif\u001b[39;00m k \u001b[38;5;129;01mnot\u001b[39;00m \u001b[38;5;129;01min\u001b[39;00m skip}))\n\u001b[0;32m   2045\u001b[0m \u001b[38;5;28;01melse\u001b[39;00m:  \u001b[38;5;66;03m# Let third-parties do as they see fit.\u001b[39;00m\n\u001b[0;32m   2046\u001b[0m     print_method \u001b[38;5;241m=\u001b[39m meth\n",
      "\u001b[1;31mTypeError\u001b[0m: FigureCanvasPdf.print_pdf() got an unexpected keyword argument 'dbi'"
     ]
    },
    {
     "data": {
      "image/png": "[encoded data removed]",
      "text/plain": [
       "<Figure size 640x480 with 2 Axes>"
      ]
     },
     "metadata": {},
     "output_type": "display_data"
    }
   ],
   "source": [
    "# fixation time of strategy P\n",
    "NFP=np.zeros((n-3,n-3))\n",
    "for i in range (0,n-3):\n",
    "    for j in range (0,n-3):\n",
    "        fp=(FA[i,j])*((rop[j]))\n",
    "        if fp==0:\n",
    "            NFP[i,j]=0\n",
    "        else:\n",
    "            NFP[i,j]=(FA[i,j])*((rop[j])/(rop[i]))\n",
    "            \n",
    "def pol(k):\n",
    "    t=0\n",
    "    for x in range (0,n-3):\n",
    "        t=t+NFP[k,x] \n",
    "    return(t)\n",
    "        \n",
    "PRO=[]\n",
    "for x in range (0,n-3):\n",
    "    PRO.append(pol(x))\n",
    "    \n",
    "#time\n",
    "WW=[0,0,0]\n",
    "JKL=WW+PRO\n",
    "def reyt(x):\n",
    "    if x==1:\n",
    "        return([JKL[0]])\n",
    "    if x==N+1:\n",
    "        GH=[JKL[1]]\n",
    "        for s in range (int(x*(x-1)//2+2),len(JKL)):\n",
    "            GH.append(JKL[s])\n",
    "        GH.append(JKL[2])\n",
    "        return(GH)\n",
    "        \n",
    "    ui=[]\n",
    "    for j in range (int(x*(x+1)//2-x+2),int(x*(x+1)//2+2)):\n",
    "        ui.append(JKL[j])\n",
    "    return(ui)\n",
    "\n",
    "\n",
    "ERt=np.zeros((N+2,2*N+1))\n",
    "for i in range (0,N+2):\n",
    "    for j in range (0,2*N+1):\n",
    "        ERt[i][j]='nan'\n",
    "for j in range (1,N+2):\n",
    "    for k in range (0, len(reyt(j))):\n",
    "        ERt[j-1][N-len(reyt(j))+2*k+1]=reyt(j)[k]\n",
    "\n",
    "        \n",
    "for x in range (0,N+1):\n",
    "    for y in range (0,2*N-1):\n",
    "        if str(ERt[x,y])=='nan' and str(ERt[x,y-1])!='nan' and str(ERt[x,y+1])!='nan':\n",
    "            ERt[x,y]=ERt[x,y+1]            \n",
    "ERt[N][2*N-1]=ERt[N][2*N] \n",
    "\n",
    "for x in range (0,N+1):\n",
    "    for y in range (0,2*N+1):\n",
    "        if ERt[x,y]==0:\n",
    "            ERt[x,y]='nan'\n",
    "ERt[N][0]=0\n",
    "\n",
    "ax = sns.heatmap(ERt,yticklabels=False,cmap='Spectral') \n",
    "plt.savefig('N=50-An.time.pdf',dbi=1000)"
   ]
  },
  {
   "cell_type": "code",
   "execution_count": 71,
   "metadata": {},
   "outputs": [
    {
     "name": "stderr",
     "output_type": "stream",
     "text": [
      "C:\\Users\\Mahdi\\AppData\\Local\\Temp/ipykernel_8056/3136111380.py:66: MatplotlibDeprecationWarning: savefig() got unexpected keyword argument \"dbi\" which is no longer supported as of 3.3 and will become an error two minor releases later\n",
      "  plt.savefig('N=50-An.time.pdf',dbi=1000)\n"
     ]
    },
    {
     "data": {
      "image/png": "[encoded data removed]",
      "text/plain": [
       "<Figure size 432x288 with 2 Axes>"
      ]
     },
     "metadata": {
      "needs_background": "light"
     },
     "output_type": "display_data"
    }
   ],
   "source": [
    "# fixation time of strategy S\n",
    "NFS=np.zeros((n-3,n-3))\n",
    "for i in range (0,n-3):\n",
    "    for j in range (0,n-3):\n",
    "        fp=(FA[i,j])*((ros[j]))\n",
    "        if fp==0:\n",
    "            NFS[i,j]=0\n",
    "        else:\n",
    "            NFS[i,j]=(FA[i,j])*((ros[j])/(ros[i]))\n",
    "            \n",
    "def pol(k):\n",
    "    t=0\n",
    "    for x in range (0,n-3):\n",
    "        t=t+NFS[k,x] \n",
    "    return(t)\n",
    "        \n",
    "PRO=[]\n",
    "for x in range (0,n-3):\n",
    "    PRO.append(pol(x))\n",
    "    \n",
    "#time\n",
    "WW=[0,0,0]\n",
    "JKL=WW+PRO\n",
    "def reyt(x):\n",
    "    if x==1:\n",
    "        return([JKL[0]])\n",
    "    if x==N+1:\n",
    "        GH=[JKL[1]]\n",
    "        for s in range (int(x*(x-1)//2+2),len(JKL)):\n",
    "            GH.append(JKL[s])\n",
    "        GH.append(JKL[2])\n",
    "        return(GH)\n",
    "        \n",
    "    ui=[]\n",
    "    for j in range (int(x*(x+1)//2-x+2),int(x*(x+1)//2+2)):\n",
    "        ui.append(JKL[j])\n",
    "    return(ui)\n",
    "\n",
    "\n",
    "ERt=np.zeros((N+2,2*N+1))\n",
    "for i in range (0,N+2):\n",
    "    for j in range (0,2*N+1):\n",
    "        ERt[i][j]='nan'\n",
    "for j in range (1,N+2):\n",
    "    for k in range (0, len(reyt(j))):\n",
    "        ERt[j-1][N-len(reyt(j))+2*k+1]=reyt(j)[k]\n",
    "\n",
    "        \n",
    "for x in range (0,N+1):\n",
    "    for y in range (0,2*N-1):\n",
    "        if str(ERt[x,y])=='nan' and str(ERt[x,y-1])!='nan' and str(ERt[x,y+1])!='nan':\n",
    "            ERt[x,y]=ERt[x,y+1]            \n",
    "ERt[N][2*N-1]=ERt[N][2*N] \n",
    "\n",
    "for x in range (0,N+1):\n",
    "    for y in range (0,2*N+1):\n",
    "        if ERt[x,y]==0:\n",
    "            ERt[x,y]='nan'\n",
    "            \n",
    "for x in range (0,2*N+1):\n",
    "    ERt[N][x]=np.nan\n",
    "\n",
    "ERt[0][N]=1\n",
    "\n",
    "ax = sns.heatmap(ERt,yticklabels=False,cmap='Spectral') \n",
    "plt.savefig('N=50-An.time.pdf',dbi=1000)"
   ]
  },
  {
   "cell_type": "code",
   "execution_count": 72,
   "metadata": {},
   "outputs": [
    {
     "name": "stderr",
     "output_type": "stream",
     "text": [
      "C:\\Users\\Mahdi\\AppData\\Local\\Temp/ipykernel_8056/3188151843.py:66: MatplotlibDeprecationWarning: savefig() got unexpected keyword argument \"dbi\" which is no longer supported as of 3.3 and will become an error two minor releases later\n",
      "  plt.savefig('N=50-An.time.pdf',dbi=1000)\n"
     ]
    },
    {
     "data": {
      "image/png": "[encoded data removed]",
      "text/plain": [
       "<Figure size 432x288 with 2 Axes>"
      ]
     },
     "metadata": {
      "needs_background": "light"
     },
     "output_type": "display_data"
    }
   ],
   "source": [
    "# fixation time of strategy R\n",
    "NFR=np.zeros((n-3,n-3))\n",
    "for i in range (0,n-3):\n",
    "    for j in range (0,n-3):\n",
    "        fp=(FA[i,j])*((ror[j]))\n",
    "        if fp==0:\n",
    "            NFR[i,j]=0\n",
    "        else:\n",
    "            NFR[i,j]=(FA[i,j])*((ror[j])/(ror[i]))\n",
    "            \n",
    "def pol(k):\n",
    "    t=0\n",
    "    for x in range (0,n-3):\n",
    "        t=t+NFR[k,x] \n",
    "    return(t)\n",
    "        \n",
    "PRO=[]\n",
    "for x in range (0,n-3):\n",
    "    PRO.append(pol(x))\n",
    "    \n",
    "#time\n",
    "WW=[0,0,0]\n",
    "JKL=WW+PRO\n",
    "def reyt(x):\n",
    "    if x==1:\n",
    "        return([JKL[0]])\n",
    "    if x==N+1:\n",
    "        GH=[JKL[1]]\n",
    "        for s in range (int(x*(x-1)//2+2),len(JKL)):\n",
    "            GH.append(JKL[s])\n",
    "        GH.append(JKL[2])\n",
    "        return(GH)\n",
    "        \n",
    "    ui=[]\n",
    "    for j in range (int(x*(x+1)//2-x+2),int(x*(x+1)//2+2)):\n",
    "        ui.append(JKL[j])\n",
    "    return(ui)\n",
    "\n",
    "\n",
    "ERt=np.zeros((N+2,2*N+1))\n",
    "for i in range (0,N+2):\n",
    "    for j in range (0,2*N+1):\n",
    "        ERt[i][j]='nan'\n",
    "for j in range (1,N+2):\n",
    "    for k in range (0, len(reyt(j))):\n",
    "        ERt[j-1][N-len(reyt(j))+2*k+1]=reyt(j)[k]\n",
    "\n",
    "        \n",
    "for x in range (0,N+1):\n",
    "    for y in range (0,2*N-1):\n",
    "        if str(ERt[x,y])=='nan' and str(ERt[x,y-1])!='nan' and str(ERt[x,y+1])!='nan':\n",
    "            ERt[x,y]=ERt[x,y+1]            \n",
    "ERt[N][2*N-1]=ERt[N][2*N] \n",
    "\n",
    "for x in range (0,N+1):\n",
    "    for y in range (0,2*N+1):\n",
    "        if ERt[x,y]==0:\n",
    "            ERt[x,y]='nan'\n",
    "            \n",
    "for x in range (0,N):\n",
    "    ERt[x][N-x]=np.nan\n",
    "ERt[N][2*N-1]=2            \n",
    "ERt[N][2*N]=1\n",
    "\n",
    "ax = sns.heatmap(ERt,yticklabels=False,cmap='Spectral') \n",
    "plt.savefig('N=50-An.time.pdf',dbi=1000)"
   ]
  }
 ],
 "metadata": {
  "kernelspec": {
   "display_name": "Python 3 (ipykernel)",
   "language": "python",
   "name": "python3"
  },
  "language_info": {
   "codemirror_mode": {
    "name": "ipython",
    "version": 3
   },
   "file_extension": ".py",
   "mimetype": "text/x-python",
   "name": "python",
   "nbconvert_exporter": "python",
   "pygments_lexer": "ipython3",
   "version": "3.10.8"
  }
 },
 "nbformat": 4,
 "nbformat_minor": 2
}
